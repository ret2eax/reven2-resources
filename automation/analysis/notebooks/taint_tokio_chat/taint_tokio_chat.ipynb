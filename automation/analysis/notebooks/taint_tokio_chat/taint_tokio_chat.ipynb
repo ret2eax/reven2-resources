{
 "cells": [
  {
   "cell_type": "markdown",
   "metadata": {},
   "source": [
    "# Welcome to this tutorial notebook!"
   ]
  },
  {
   "cell_type": "markdown",
   "metadata": {},
   "source": [
    "This notebook contains the code necessary to demonstrate interprocess taint analysis using the API.\n",
    "\n",
    "Executing all the cells will perform various taints and filter on the results."
   ]
  },
  {
   "cell_type": "markdown",
   "metadata": {},
   "source": [
    " You can execute the cells that contain python code using the Ctrl+Enter (execute and stay in same cell) or the Shift+Enter (execute and go to next cell) shortcuts.\n",
    "\n",
    "Please execute the cells in order, as they are dependent of each other.\n",
    "\n",
    "If this is the first time that you are using the REVEN API, we recommend you start with our [guided tour](./guided_tour.ipynb) notebook."
   ]
  },
  {
   "cell_type": "code",
   "execution_count": null,
   "metadata": {
    "slideshow": {
     "slide_type": "-"
    }
   },
   "outputs": [],
   "source": [
    "# API imports\n",
    "import reven2  # analysis API\n",
    "import reven2.preview  # access taint\n",
    "import reven2.arch.x64 as regs  # shortcut when reading registers\n",
    "from reven2.address import LogicalAddress  # shortcut when reading addresses\n",
    "import reven2.types as types   # shortcut when reading a specific type\n",
    "\n",
    "# various useful helpers for HTML display etc\n",
    "from taint_tokio_chat.utils import display_table, table_line, read_tainted_memory, get_ret_ctx"
   ]
  },
  {
   "cell_type": "code",
   "execution_count": null,
   "metadata": {},
   "outputs": [],
   "source": [
    "# connect to the server\n",
    "server = reven2.RevenServer(\"127.0.0.1\", 1337)\n",
    "trace = server.trace\n",
    "print(server)\n",
    "print(trace.transition_count)  # check total number of transitions in the trace"
   ]
  },
  {
   "cell_type": "markdown",
   "metadata": {},
   "source": [
    "# A simple taint\n",
    "\n",
    "Let's look at the framebuffer towards the end of the trace (at transition `#16810210`):\n",
    "\n",
    "![Framebuffer](img/framebuffer_tokio_chat.png)\n",
    "\n",
    "* There are 3 `cmd` windows, 2 of them running a `chat_client.exe`, one of them running what appears to be a server.\n",
    "* Let's try to see how the `Bob: Hello!` string received by the `Alice` client traveled during the trace by using a backward taint!"
   ]
  },
  {
   "cell_type": "code",
   "execution_count": null,
   "metadata": {
    "scrolled": true
   },
   "outputs": [],
   "source": [
    "# Find the last occurrence of \"Bob: Hello!\" in the trace\n",
    "last_string = list(trace.strings(\"Bob: Hello!\"))[-1]\n",
    "print(last_string)\n",
    "# Memory location occupied by the string\n",
    "mem_to_taint = reven2.preview.taint.TaintedMemories(last_string.address, \n",
    "                                                    last_string.size)\n",
    "print(mem_to_taint)\n",
    "\n",
    "# Contexts between which we will perform the backward taint: from the first access\n",
    "# to the string to the beginning of the trace (0) \n",
    "first_context = last_string.first_access.context_before()\n",
    "print(first_context)\n",
    "last_context = trace.context_before(0)\n",
    "print(last_context)\n",
    "is_forward_taint = False\n",
    "\n",
    "# start the backward taint\n",
    "from reven2.preview.taint import Tainter\n",
    "tainter = Tainter(trace=trace)\n",
    "taint = tainter.simple_taint(tag0=mem_to_taint, \n",
    "                             is_forward=is_forward_taint, \n",
    "                             from_context=last_context, to_context=first_context)\n",
    "print(taint)"
   ]
  },
  {
   "cell_type": "code",
   "execution_count": null,
   "metadata": {
    "scrolled": true
   },
   "outputs": [],
   "source": [
    "# display taint result each time we change to a different process\n",
    "process = None\n",
    "table = \"\"\n",
    "# iterate over all changes in tainted data\n",
    "for change in taint.accesses(changes_only=True).all():\n",
    "    ctx = change.transition.context_before()\n",
    "    new_process = ctx.ossi.process() # get current process\n",
    "    \n",
    "    if process is None or new_process.pid != process.pid: # we changed process\n",
    "        table += table_line([\"#{}\".format(change.transition.id),\n",
    "                             new_process, read_tainted_memory(change)])\n",
    "        process = new_process\n",
    "        \n",
    "display_table(title=\"Process changes for the backward taint of 'Bob: Hello!'\", \n",
    "              headers=[\"Transition\", \"Process\", \"Tainted memory\"],\n",
    "              html_lines=table)"
   ]
  },
  {
   "cell_type": "markdown",
   "metadata": {},
   "source": [
    "The backward taint informs us of what happened to the message, in reverse chronological order:\n",
    "\n",
    "1. The `Bob: Hello!` message ends up in the `conhost.exe (2704)` where it is displayed\n",
    "2. the message was received by the `chat_client.exe (2832)` process \n",
    "3. the message was received by the `chat_server.exe (648)`\n",
    "4. the `Hello!` message was sent by the `chat_client.exe (2816)` along with the `Bob` nickname\n",
    "5. The `Hello!` message and the `Bob` nickname were originally typed in the `conhost.exe (2788)` process\n",
    "\n",
    "We got a good idea of where the message comes from and what processes it went through."
   ]
  },
  {
   "cell_type": "markdown",
   "metadata": {},
   "source": [
    "## We can also attempt the taint in the forward direction to see the events in the chronological order"
   ]
  },
  {
   "cell_type": "code",
   "execution_count": null,
   "metadata": {},
   "outputs": [],
   "source": [
    "# Find the first occurrence of \"Hello!\" in the trace\n",
    "first_string = list(trace.strings(\"Hello!\"))[0]\n",
    "print(first_string)\n",
    "# Memory location occupied by the string\n",
    "mem_to_taint = reven2.preview.taint.TaintedMemories(first_string.address, \n",
    "                                                    first_string.size)\n",
    "print(mem_to_taint)\n",
    "\n",
    "# Contexts between which we will perform the forward taint: from the first access to the\n",
    "# string to the end of the trace\n",
    "first_context = first_string.first_access.context_before()\n",
    "print(first_context)\n",
    "last_context = trace.transition(trace.transition_count - 1).context_after()\n",
    "print(last_context)\n",
    "is_forward_taint = True\n",
    "\n",
    "# start the forward taint\n",
    "from reven2.preview.taint import Tainter\n",
    "tainter = Tainter(trace=trace)\n",
    "taint = tainter.simple_taint(tag0=mem_to_taint, is_forward=is_forward_taint,\n",
    "                             from_context=first_context,\n",
    "                             to_context=last_context)\n",
    "print(taint)"
   ]
  },
  {
   "cell_type": "code",
   "execution_count": null,
   "metadata": {},
   "outputs": [],
   "source": [
    "# Taint is now running in background. You can access its current progress status by executing\n",
    "# this cell, or you can execute the next code cell to collect all its results in a blocking\n",
    "# manner.\n",
    "print(taint.progress())"
   ]
  },
  {
   "cell_type": "markdown",
   "metadata": {},
   "source": [
    "Because we are using the reven2.preview.taint.TaintAccessView.available() method,\n",
    "the call to `taint.accesses(changes_only=True).all()` in the next code cell is blocking\n",
    "if it needs more results and the taint is not finished, in order to get all results.\n",
    "\n",
    "If your workload is on a very long taint, you may prefer getting the first available\n",
    "results without blocking. To do so you can use the `taint.accesses(changes_only=True).available()` method\n",
    "to only get what results are available at the time of the call.\n",
    "\n",
    "Please refer to the documentation of the taint module (execute `reven2.preview.taint?` in a\n",
    "cell) for more information, or access the\n",
    "[online documentation](http://doc.tetrane.com/professional/latest/python-doc/reven2.preview.taint.html) for\n",
    "[available()](http://doc.tetrane.com/professional/latest/python-doc/reven2.preview.taint.TaintResultView.html#available) and\n",
    "[all()](http://doc.tetrane.com/professional/latest/python-doc/reven2.preview.taint.TaintResultView.html#all)."
   ]
  },
  {
   "cell_type": "code",
   "execution_count": null,
   "metadata": {},
   "outputs": [],
   "source": [
    "# display taint result each time we change to a different process\n",
    "process = None\n",
    "table = \"\"\n",
    "# iterate over all changes in tainted data\n",
    "for change in taint.accesses(changes_only=True).all():\n",
    "    new_process = change.transition.context_before().ossi.process() # get current process\n",
    "    \n",
    "    if process is None or new_process.pid != process.pid: # we changed process\n",
    "        table += table_line([\"#{}\".format(change.transition.id),\n",
    "                             new_process, read_tainted_memory(change)])\n",
    "        process = new_process\n",
    "        \n",
    "display_table(title=\"Process changes for the forward taint of 'Hello!'\", \n",
    "              headers=[\"Transition\", \"Process\", \"Tainted memory\"],\n",
    "              html_lines=table)"
   ]
  },
  {
   "cell_type": "markdown",
   "metadata": {},
   "source": [
    "# Analyzing communication between clients and server "
   ]
  },
  {
   "cell_type": "markdown",
   "metadata": {},
   "source": [
    "## Sent messages\n",
    "\n",
    "To analyze sent messages, we will look for calls to the `WSASend` symbol of `ws2_32.dll` using the search API.\n",
    "\n",
    "For each of these calls, we will then look at the parameters of the `WSASend` function call to find what was called.\n",
    "\n",
    "The prototype of the `WSASend` is the following:\n",
    "\n",
    "```C\n",
    "int WSAAPI WSASend(\n",
    "  SOCKET                             s,                   // rcx\n",
    "  LPWSABUF                           lpBuffers,           // rdx\n",
    "  DWORD                              dwBufferCount,       // r8\n",
    "  LPDWORD                            lpNumberOfBytesSent, // r9\n",
    "  DWORD                              dwFlags,\n",
    "  LPWSAOVERLAPPED                    lpOverlapped,\n",
    "  LPWSAOVERLAPPED_COMPLETION_ROUTINE lpCompletionRoutine\n",
    ");\n",
    "```\n",
    "\n",
    "We will need to look the sent content by reading `rdx`."
   ]
  },
  {
   "cell_type": "code",
   "execution_count": null,
   "metadata": {},
   "outputs": [],
   "source": [
    "wsasend_symbol = next(server.ossi.symbols(\"^WSASend$\", binary_hint=\"ws2_32\"))\n",
    "print(\"List of WSASend calls:\", list(trace.search.symbol(wsasend_symbol)))\n",
    "\n",
    "call = next(trace.search.symbol(wsasend_symbol))\n",
    "\n",
    "lpBuffers = call.read(regs.rdx, types.Pointer(types.USize))\n",
    "print(lpBuffers)\n",
    "buf0_size = call.read(lpBuffers, types.U64)\n",
    "print(buf0_size)\n",
    "buf0_buf = call.read(lpBuffers + 8, types.Pointer(types.USize))\n",
    "print(buf0_buf)\n",
    "buf = call.read(buf0_buf, buf0_size, raw=True)\n",
    "print(buf)"
   ]
  },
  {
   "cell_type": "code",
   "execution_count": null,
   "metadata": {},
   "outputs": [],
   "source": [
    "wsasend_symbol = next(server.ossi.symbols(\"^WSASend$\", binary_hint=\"ws2_32\"))\n",
    "# Let's do this for all calls and print the results as an HTML table\n",
    "table = \"\"\n",
    "\n",
    "for call in trace.search.symbol(wsasend_symbol):\n",
    "    lpBuffers = call.read(regs.rdx, types.Pointer(types.USize))\n",
    "    buf0_size = call.read(lpBuffers, types.U64)\n",
    "    buf0_buf = call.read(lpBuffers + 8, types.Pointer(types.USize))\n",
    "    buf = call.read(buf0_buf, buf0_size, raw=True)\n",
    "    call_transition = call.transition_after()\n",
    "    table += table_line([\"#{}\".format(call_transition.id), call.ossi.process(), buf])\n",
    "    \n",
    "display_table(\"WSASend calls\", [\"Call Transition\", \"Process\", \"Received buffer\"], table)"
   ]
  },
  {
   "cell_type": "markdown",
   "metadata": {},
   "source": [
    "## Received messages\n",
    "\n",
    "To analyze received messages, we will look at the `recv` function of `ws2_32.dll`.\n",
    "\n",
    "Its prototype is the following:\n",
    "\n",
    "```C\n",
    "int recv(\n",
    "   SOCKET s,    // rcx\n",
    "   char   *buf, // rdx\n",
    "   int    len,  // r8\n",
    "   int    flags // r9\n",
    " );\n",
    "```\n",
    "\n",
    "This time, the value of `buf` will be available only at the end of the function, so we will need memory history to reach the end of the function from its beginning.\n",
    "\n",
    "\n",
    "```\n",
    " 0x57fcf7    call  0x5c1dec ($+0x420f5) \n",
    " #6216920 ---- __adddf3+0x2bc - chat_server.exe <- Context of the call\n",
    " 0x5c1dec    jmp   qword ptr [rip + 0xb0d72] \n",
    " #6216921 ---- recv - ws2_32.dll\n",
    " 0x7ffb6cb6dd90 mov   qword ptr [rsp + 8], rbx\n",
    "``` \n",
    "\n",
    "We will need to get the `call 0x5c1dec` instruction from the context of the call, and then use memory history on the return address to find\n",
    "the corresponding `ret` instruction\n",
    "    "
   ]
  },
  {
   "cell_type": "code",
   "execution_count": null,
   "metadata": {
    "lines_to_end_of_cell_marker": 2,
    "lines_to_next_cell": 0
   },
   "outputs": [],
   "source": [
    "recv_symbol = next(server.ossi.symbols(\"^recv$\", binary_hint=\"ws2_32\"))\n",
    "\n",
    "table = \"\"\n",
    "\n",
    "for call_ctx in trace.search.symbol(recv_symbol):\n",
    "    buf_addr = call_ctx.read(regs.rdx, types.Pointer(types.USize))\n",
    "\n",
    "    # go to the end of the function\n",
    "    ret_ctx = get_ret_ctx(trace, call_ctx)\n",
    "    actually_recvd = ret_ctx.read(regs.rax)\n",
    "    if actually_recvd == 0xffffffff:\n",
    "        continue\n",
    "    buf = ret_ctx.read(buf_addr, actually_recvd, raw=True)\n",
    "    table += table_line([\"#{}\".format(call_transition.id), call_ctx.ossi.process(), buf])\n",
    "\n",
    "display_table(\"recv calls\", [\"Call Transition\", \"Process\", \"Received buffer\"], table)"
   ]
  },
  {
   "cell_type": "markdown",
   "metadata": {},
   "source": [
    "This is the end of this notebook.\n",
    "\n",
    "Thank you for following along!"
   ]
  }
 ],
 "metadata": {
  "jupytext": {
   "formats": "ipynb,py"
  },
  "kernelspec": {
   "display_name": "reven-2.3.0-python3",
   "language": "python",
   "name": "python3"
  },
  "language_info": {
   "codemirror_mode": {
    "name": "ipython",
    "version": 3
   },
   "file_extension": ".py",
   "mimetype": "text/x-python",
   "name": "python",
   "nbconvert_exporter": "python",
   "pygments_lexer": "ipython3",
   "version": "3.5.3"
  }
 },
 "nbformat": 4,
 "nbformat_minor": 2
}
