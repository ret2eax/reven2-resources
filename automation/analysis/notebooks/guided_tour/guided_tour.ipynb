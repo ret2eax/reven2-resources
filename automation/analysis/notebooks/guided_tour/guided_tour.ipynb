{
 "cells": [
  {
   "cell_type": "markdown",
   "metadata": {},
   "source": [
    "# Welcome to REVEN's Analysis Python API!"
   ]
  },
  {
   "cell_type": "markdown",
   "metadata": {},
   "source": [
    "This notebook demonstrates the Analysis Python API of REVEN.\n",
    "\n",
    "You can execute the cells that contain python code using the Ctrl+Enter (execute and stay in same cell) or the Shift+Enter (execute and go to next cell) shortcuts.\n",
    "\n",
    "Please execute the cells in order, as they are dependent of each other.\n",
    "\n",
    "In this notebook, you can confirm if a code cell is running by looking at the `In [ ]:` on the left of the cell. If the brackets are empty, then the cell was not executed, if they contain a number (`e.g. In [24]:`), the execution is finished, and if they contain a star (e.g. `In [*]:`), then the cell is currently executing.\n",
    "\n",
    "Once you are done running this notebook, and if this demo contains a tutorial notebook associated to the demo's trace, you can [go back to notebook selection](./) and choose the tutorial notebook."
   ]
  },
  {
   "cell_type": "code",
   "execution_count": null,
   "metadata": {},
   "outputs": [],
   "source": [
    "# Try executing this cell with Shift+Enter or Ctrl+Enter!\n",
    "print(\"Hello REVEN!\")\n",
    "2 + 40"
   ]
  },
  {
   "cell_type": "code",
   "execution_count": null,
   "metadata": {},
   "outputs": [],
   "source": [
    "# API imports\n",
    "\n",
    "import reven2  # analysis API\n",
    "import reven2.types as types   # shortcut when reading a specific type\n",
    "from reven2.preview.project_manager import ProjectManager  # get access to the Project Manager"
   ]
  },
  {
   "cell_type": "code",
   "execution_count": null,
   "metadata": {},
   "outputs": [],
   "source": [
    "# You can explore the API's documentation by suffixing any object, function, ... with `?`\n",
    "reven2?\n",
    "\n",
    "# This will open an help window when you'll execute this cell"
   ]
  },
  {
   "cell_type": "markdown",
   "metadata": {},
   "source": [
    "# Connecting to a server\n"
   ]
  },
  {
   "cell_type": "markdown",
   "metadata": {},
   "source": [
    "\n",
    "To use the Python API, you have to connect to a *REVEN server* started on the scenario you want to analyze. To do this, you must provide the *host* and *port* of your REVEN server:"
   ]
  },
  {
   "cell_type": "code",
   "execution_count": null,
   "metadata": {},
   "outputs": [],
   "source": [
    "# Connecting to a reven server\n",
    "hostname = \"127.0.0.1\"\n",
    "port = 1337\n",
    "server = reven2.RevenServer(hostname, port)\n",
    "server"
   ]
  },
  {
   "cell_type": "markdown",
   "metadata": {},
   "source": [
    "If you are using the Python API from the same machine than the REVEN server itself, then the host is `\"localhost\"` (or `127.0.0.1`), otherwise it is the address of your server. To find the port, you can go to the Analyze page for the scenario you want to connect with, and the port number will be displayed in the label above the buttons (`REVEN running on port xxxx`):\n",
    "\n",
    "![Project manager find port in analyze](img/quasar_reven_port.png)\n",
    "\n",
    "Alternatively, you can find the port in the Active sessions list:\n",
    "\n",
    "![Project manager find port in sessions](img/quasar_reven_sessions.png)\n",
    "\n",
    "Finally, if you have an Axion client connected to your REVEN server, you can find the port in the titlebar of the Axion window:\n",
    "\n",
    "![Axion find port in title](img/axion_titlebar.png)\n",
    "\n",
    "## Connecting to a server from the scenario's name\n",
    "\n",
    "**NOTE:** This section only applies to REVEN enterprise edition. \n",
    "\n",
    "**NOTE:** This feature is not provided in the demo.\n",
    "\n",
    "You can use a feature of the Workflow API to get a connection to a server from the scenario's name, rather than by specifying a port:\n",
    "\n",
    "```ipython\n",
    ">>> from reven2.preview.project_manager import ProjectManager\n",
    ">>> pm = ProjectManager(\"http://localhost:8880\")  # URL to the REVEN Project Manager\n",
    ">>> connection = pm.connect(\"cve-2016-7255\")  # No need to specify \"13370\"\n",
    ">>> server = connection.server\n",
    ">>> server\n",
    "Reven server (localhost:13370) [connected]\n",
    "```\n",
    "\n",
    "This is useful, as the server port will typically change at each reopening of the scenario, while the scenario name remains the same.\n",
    "\n",
    "If no server is open for that particular scenario when executing the `ProjectManager.connect ` method call, then a new one will be started.\n",
    "\n",
    "\n",
    "In the demo sessions, the port will always be **1337**."
   ]
  },
  {
   "cell_type": "markdown",
   "metadata": {},
   "source": [
    "# Root object of the API, tree of objects\n"
   ]
  },
  {
   "cell_type": "markdown",
   "metadata": {},
   "source": [
    "\n",
    "The `RevenServer` instance serves as the root object of the API from where you can access all the features of the API. The following diagram gives a high-level view of the Python API:\n",
    "\n",
    "![high level diagram of the API](img/archi.png)\n",
    "\n",
    "For instance, from there you can get the execution trace and ask for the total number of transitions in the trace:"
   ]
  },
  {
   "cell_type": "code",
   "execution_count": null,
   "metadata": {},
   "outputs": [],
   "source": [
    "# Getting the trace object\n",
    "trace = server.trace\n",
    "# Getting the number of transitions in the trace\n",
    "trace.transition_count"
   ]
  },
  {
   "cell_type": "markdown",
   "metadata": {},
   "source": [
    "# Main concepts\n"
   ]
  },
  {
   "cell_type": "markdown",
   "metadata": {},
   "source": [
    "\n",
    "## Getting a point in time\n",
    "\n",
    "As is visible in Axion, all instructions are identified by a single unique integer, called the *transition id*. The transition id starts at 0 for the first instruction in the trace, and is incremented by 1 for each consecutive instruction.\n",
    "\n",
    "Note: We are using the term \"transition\" rather than \"instruction\" here, because technically, not all \"transitions\" in the trace are \"instructions\": when an interrupt or a fault occurs, it is also denoted by a `Transition` that changed the `Context`, although no `Instruction` was executed. Similarly, instructions that execute only partially (due to being interrupted by e.g. a pagefault) are not considered as normal `Instructions`. You can see a transition as a generalized instruction, i.e. something that modifies the context.\n",
    "\n",
    "### Getting a transition\n",
    "\n",
    "You can get interesting transition numbers from Axion's instruction view:\n",
    "\n",
    "![Finding a transition in Axion](img/axion_transition.png)"
   ]
  },
  {
   "cell_type": "code",
   "execution_count": null,
   "metadata": {},
   "outputs": [],
   "source": [
    "# Getting a transition\n",
    "transition = trace.transition(1234)\n",
    "# Displays the transition as seen in Axion\n",
    "print(transition)\n",
    "# Is this transition an instruction?\n",
    "print(transition.instruction is not None)\n",
    "\n",
    "# Note that the transition you'll get going to be different from the one in the screenshot,\n",
    "# since this is using the demo's trace which is likely to be different from the one used in the\n",
    "# screenshot."
   ]
  },
  {
   "cell_type": "markdown",
   "metadata": {},
   "source": [
    "### Getting a context\n",
    "\n",
    "A `Transition` represents a *change* in the trace, while a `Context` represents a *state* in the trace.\n",
    "\n",
    "From a transition, you can get either the context before the transition was applied, or the context after the transition was applied:"
   ]
  },
  {
   "cell_type": "code",
   "execution_count": null,
   "metadata": {},
   "outputs": [],
   "source": [
    "# Comparing rip before and after executing an instruction\n",
    "ctx_before = transition.context_before()\n",
    "ctx_after = transition.context_after()\n",
    "\n",
    "print(\"{:#x}\".format(ctx_before.read(reven2.arch.x64.rip)))\n",
    "print(\"{:#x}\".format(ctx_after.read(reven2.arch.x64.rip)))\n",
    "\n",
    "# Directly getting a context from the trace object\n",
    "print(trace.context_before(0x1234) == trace.transition(0x1234).context_before())\n",
    "\n",
    "# Getting a transition back from a context\n",
    "print(transition.context_before().transition_after() == transition)"
   ]
  },
  {
   "cell_type": "markdown",
   "metadata": {},
   "source": [
    "## Reading a context\n",
    "\n",
    "A common operation on a `Context` instance is to read the state of the CPU registers as well as memory.\n",
    "\n",
    "The API provides the `read` method on `Context`, that allows reading from a source.\n",
    "\n",
    "### Getting a register or an address\n",
    "\n",
    "To read from a register source, you can reference elements exposed by the `arch` package:"
   ]
  },
  {
   "cell_type": "code",
   "execution_count": null,
   "metadata": {},
   "outputs": [],
   "source": [
    "# For convenience, we recommend this import\n",
    "import reven2.arch.x64 as regs\n",
    "\n",
    "ctx = transition.context_before()\n",
    "print(ctx.read(regs.rax))\n",
    "\n",
    "print(ctx.read(regs.al))\n",
    "\n",
    "# Are we in kernel land?\n",
    "print(ctx.read(regs.cs) & 3 == 0)"
   ]
  },
  {
   "cell_type": "markdown",
   "metadata": {},
   "source": [
    "To read from a source address, use the `address` module to construct addresses:"
   ]
  },
  {
   "cell_type": "code",
   "execution_count": null,
   "metadata": {},
   "outputs": [],
   "source": [
    "# Convenience import of useful types from the address module\n",
    "from reven2.address import LogicalAddress, LinearAddress, PhysicalAddress\n",
    "\n",
    "# Comparing the bytes at RIP in memory with the bytes of the instruction\n",
    "rip = ctx.read(regs.rip)\n",
    "instruction = transition.instruction\n",
    "ctx.read(LogicalAddress(rip, regs.cs), instruction.size) == instruction.raw"
   ]
  },
  {
   "cell_type": "markdown",
   "metadata": {},
   "source": [
    "*Find a transition that writes memory (for instance by looking at the instruction view in \n",
    "Axion), and try to read the manipulated memory before and after it gets written, using the API!*"
   ]
  },
  {
   "cell_type": "code",
   "execution_count": null,
   "metadata": {},
   "outputs": [],
   "source": [
    "# Fill this cell...\n",
    "\n",
    "# Transition at which the memory is written to\n",
    "mem_write_transition = trace.transition(???)\n",
    "ctx_before_mem_write_transition = mem_write_transition.context_before()\n",
    "ctx_after_mem_write_transition = mem_write_transition.context_after()\n",
    "\n",
    "# Address that is written to\n",
    "written_address = LogicalAddress(???)\n",
    "\n",
    "# Size to read, in bytes\n",
    "address_size = ???\n",
    "\n",
    "print(\"{:#x}\".format(ctx_before_mem_write_transition.read(written_address, address_size)))\n",
    "print(\"{:#x}\".format(ctx_after_mem_write_transition.read(written_address, address_size)))"
   ]
  },
  {
   "cell_type": "markdown",
   "metadata": {},
   "source": [
    "### Reading as a type\n",
    "\n",
    "The `types` package of the API provides classes and instances dedicated to the representation of data types. They allow to read a register or some memory as a specific data type."
   ]
  },
  {
   "cell_type": "code",
   "execution_count": null,
   "metadata": {},
   "outputs": [],
   "source": [
    "# Convenience import of the types package to the root namespace\n",
    "from reven2 import types\n",
    "\n",
    "# Reading rax as various integer types\n",
    "print(\"U8={}\".format(ctx.read(regs.rax, types.U8)))\n",
    "print(\"U16={}\".format(ctx.read(regs.rax, types.U16)))\n",
    "print(\"I8={}\".format(ctx.read(regs.rax, types.I8)))\n",
    "\n",
    "# Reading in a different endianness (default is little endian)\n",
    "print(\"U16, big-endian={}\".format(ctx.read(regs.rax, types.BigEndian(types.U16))))"
   ]
  },
  {
   "cell_type": "markdown",
   "metadata": {},
   "source": [
    "*Find a String in memory (either in UTF8 or in UTF16), and then try to read this memory as a String.*"
   ]
  },
  {
   "cell_type": "code",
   "execution_count": null,
   "metadata": {},
   "outputs": [],
   "source": [
    "# Fill this cell...\n",
    "\n",
    "# Transition number where the string is in memory\n",
    "ctx_with_string = trace.context_before(???)\n",
    "\n",
    "# Address where the string starts\n",
    "string_address = LogicalAddress(???)\n",
    "\n",
    "# The string's encoding: one of types.Encoding.Utf16 or types.Encoding.Utf8\n",
    "encoding = ???\n",
    "\n",
    "# Maximum characters to look up: if the string is not NUL-terminated, the string's size,\n",
    "# otherwise, some \"big enough\" value (like 1000)\n",
    "max_character_count = ???\n",
    "\n",
    "ctx_with_string.read(string_address, types.CString(encoding, max_character_count=max_character_count))"
   ]
  },
  {
   "cell_type": "code",
   "execution_count": null,
   "metadata": {},
   "outputs": [],
   "source": [
    "# Run this cell after having filled the previous cell\n",
    "\n",
    "# Reading the same memory as a small array of bytes\n",
    "ctx_with_string.read(string_address, types.Array(types.U8, 4))"
   ]
  },
  {
   "cell_type": "markdown",
   "metadata": {},
   "source": [
    "*Find a context where there is a pointer in some register (for instance in `rcx` or `rdx`),\n",
    "then read its pointed-to value.*"
   ]
  },
  {
   "cell_type": "code",
   "execution_count": null,
   "metadata": {},
   "outputs": [],
   "source": [
    "# Fill this cell...\n",
    "\n",
    "# Transition number where a register contains a pointer\n",
    "ctx_with_ptr = trace.context_before(???)\n",
    "\n",
    "# The register that contains the pointer (e.g., regs.rcx)\n",
    "ptr_source = regs.???\n",
    "\n",
    "# The type of the pointee object (e.g., types.U64)\n",
    "pointee_type = types.???\n",
    "\n",
    "# Dereferencing our pointer in two steps\n",
    "ptr_addr = LogicalAddress(ctx_with_ptr.read(ptr_source, types.USize))\n",
    "print(ctx_with_ptr.read(ptr_addr, pointee_type))\n",
    "\n",
    "# or, dereferencing our pointer in a single step\n",
    "print(ctx_with_ptr.deref(ptr_source, types.Pointer(pointee_type)))"
   ]
  },
  {
   "cell_type": "markdown",
   "metadata": {},
   "source": [
    "## Identifying points of interest\n"
   ]
  },
  {
   "cell_type": "markdown",
   "metadata": {},
   "source": [
    "\n",
    "One of the first tasks you need to perform during an analysis is finding an interesting point from where to start the analysis. The API provides some tools designed to identify these *points of interest*.\n",
    "\n",
    "### Getting and using symbol information\n"
   ]
  },
  {
   "cell_type": "markdown",
   "metadata": {},
   "source": [
    "\n",
    "A typical starting point for an analysis is to search points where a specific *symbol* is executed. In the API, this is done in two steps:\n",
    "\n",
    "1. Identify the symbol in the available symbols of the trace.\n",
    "2. Search for the identified symbol.\n",
    "\n",
    "For the first step, you need to recover the OS Specific Information (OSSI) instance tied to your `RevenServer` instance:"
   ]
  },
  {
   "cell_type": "code",
   "execution_count": null,
   "metadata": {},
   "outputs": [],
   "source": [
    "# recovering the OSSI object\n",
    "ossi = server.ossi"
   ]
  },
  {
   "cell_type": "markdown",
   "metadata": {},
   "source": [
    "Note that for the OSSI feature to work in the API, the necessary OSSI resources must have been generated. Failure to do so may result in several of the called methods to fail with an exception. Please refer to the documentation of each method for more information.\n",
    "\n",
    "From there you can use the methods of the `Ossi` instance to get the binaries that were executed in the trace, and all the symbols of these binaries.\n",
    "\n",
    "Note that each of these methods, like all methods returning several results of the API, return [python generator objects](https://docs.python.org/2/library/stdtypes.html#generator-types)."
   ]
  },
  {
   "cell_type": "code",
   "execution_count": null,
   "metadata": {},
   "outputs": [],
   "source": [
    "# Getting the first binary named \"ntoskrnl.exe\" in the list of executed binaries in the trace\n",
    "ntoskrnl = next(ossi.executed_binaries(\"ntoskrnl.exe\"))\n",
    "print(ntoskrnl)\n",
    "\n",
    "# Getting the list of the symbols in \"ntoskrnl.exe\" containing \"NtCreateFile\"\n",
    "nt_create_files = list(ntoskrnl.symbols(\"NtCreateFile\"))\n",
    "print(nt_create_files)"
   ]
  },
  {
   "cell_type": "markdown",
   "metadata": {},
   "source": [
    "Once you have a symbol or a binary, you can use the search feature to look for contexts whose `rip` location matches the symbol or binary."
   ]
  },
  {
   "cell_type": "code",
   "execution_count": null,
   "metadata": {
    "lines_to_next_cell": 2
   },
   "outputs": [],
   "source": [
    " # Getting the first context inside of the first call to `NtCreateFile` in the trace\n",
    "create_file_ctx = next(trace.search.symbol(nt_create_files[0]))\n",
    "print(create_file_ctx)"
   ]
  },
  {
   "cell_type": "markdown",
   "metadata": {},
   "source": [
    "**Note:** If the previous cell fails with `StopIteration`, then this means that there is no call to `NtCreateFile` in this scenario! You can retry the previous cell, but looking for a different symbol (you can look in Axion for called symbols)."
   ]
  },
  {
   "cell_type": "code",
   "execution_count": null,
   "metadata": {},
   "outputs": [],
   "source": [
    "# Getting the first context executing the `ntoskrnl` binary\n",
    "ntoskrnl_binary = next(ossi.executed_binaries(\"ntoskrnl\"))\n",
    "ntoskrnl_ctx = next(trace.search.binary(ntoskrnl_binary))\n",
    "print(ntoskrnl_ctx)"
   ]
  },
  {
   "cell_type": "markdown",
   "metadata": {},
   "source": [
    "**Note:** If the previous cell fails with `StopIteration`, then this means that `ntoskrnl` is never executed in this scenario (this would be surprising)! You can retry the previous cell, but looking for a different binary (you can look in Axion for called binary)."
   ]
  },
  {
   "cell_type": "markdown",
   "metadata": {},
   "source": [
    "For any context, you can request the current OSSI location and process:"
   ]
  },
  {
   "cell_type": "code",
   "execution_count": null,
   "metadata": {},
   "outputs": [],
   "source": [
    "# Checking that the current symbol is NtCreateFile\n",
    "print(create_file_ctx.ossi.location())\n",
    "\n",
    "# Getting the current process\n",
    "print(create_file_ctx.ossi.process())"
   ]
  },
  {
   "cell_type": "markdown",
   "metadata": {},
   "source": [
    "**Note:** Keep in mind that when the current symbol is unknown (missing PDB, JIT code, shellcode, ...), then the `ossi.location().symbol` method can return `None`. Similarly, when the whole location is unknown, it is set to `None`."
   ]
  },
  {
   "cell_type": "markdown",
   "metadata": {},
   "source": [
    "### Searching for executed addresses in the trace\n",
    "\n",
    "If you don't have a symbol attached to your address, you can also search for a specific address using the search function.\n",
    "\n",
    "*Find an address that is executed in your trace (by e.g. looking in Axion), and then\n",
    "find the first context executing this address using the API*"
   ]
  },
  {
   "cell_type": "code",
   "execution_count": null,
   "metadata": {},
   "outputs": [],
   "source": [
    "# Fill this cell...\n",
    "\n",
    "# Some address that was executed in your trace (go look in Axion, e.g. 0x7ff72169c730)\n",
    "address = ???\n",
    "\n",
    "executed_ctx = next(trace.search.pc(address))\n",
    "print(executed_ctx)"
   ]
  },
  {
   "cell_type": "markdown",
   "metadata": {},
   "source": [
    "### Searching for strings in the trace\n",
    "\n",
    "You can use the strings feature to search points in the trace where strings are first accessed or created."
   ]
  },
  {
   "cell_type": "code",
   "execution_count": null,
   "metadata": {},
   "outputs": [],
   "source": [
    "# Getting the first of all the strings in the trace\n",
    "first_string = next(trace.strings())\n",
    "print(first_string)\n",
    "\n",
    "# Looking for strings containing a specific substring\n",
    "filtered_string = next(trace.strings(first_string.data))\n",
    "print(filtered_string)\n",
    "\n",
    "# Getting the list of memory accesses for the string\n",
    "for access in first_string.memory_accesses():\n",
    "     print(access)"
   ]
  },
  {
   "cell_type": "markdown",
   "metadata": {},
   "source": [
    "### Custom iteration in the trace\n",
    "\n",
    "Another way of searching interesting points is by iterating over contexts or transitions, and then looking for various information by inspecting the context or transition. \n",
    "\n",
    "**Beware** that if you iterate on a large portion of the trace, it may take a **very long time** to complete, so prefer the predefined search APIs that use optimized indexes whenever it is possible.\n",
    "\n",
    "Remember that, in this notebook, you can confirm if a cell is running by looking at the `In [ ]:` on the left of the cell. If the brackets are empty, then the cell was not executed, if they contain a number (`e.g. In [24]:`), the execution is finished, and if they contain a star (e.g. `In [*]:`), then the cell is currently executing.\n",
    "\n",
    "If a cell is taking too long to execute, you can cancel its execution by using the `Kernel >  Interrupt` menu option (or the \"stop\" square icon in the toolbar if displayed).\n",
    "\n"
   ]
  },
  {
   "cell_type": "code",
   "execution_count": null,
   "metadata": {},
   "outputs": [],
   "source": [
    "# Running this cell may take some time!\n",
    "\n",
    "def find_mnemonic(trace, mnemonic, from_transition=None, to_transition=None):\n",
    "    for i in range(from_transition.id if from_transition is not None else 0,\n",
    "                   to_transition.id if to_transition is not None else trace.transition_count):\n",
    "        t = trace.transition(i)\n",
    "        if t.instruction is not None and mnemonic in t.instruction.mnemonic:\n",
    "            yield t\n",
    "\n",
    "rep_transition = next(find_mnemonic(trace, \"rep\"))\n",
    "print(rep_transition)"
   ]
  },
  {
   "cell_type": "markdown",
   "metadata": {},
   "source": [
    "Combining the predefined search APIs with manual iteration allows to iterate over a smaller portion of the trace to extract useful information:"
   ]
  },
  {
   "cell_type": "code",
   "execution_count": null,
   "metadata": {},
   "outputs": [],
   "source": [
    "# Finding all files that are created in a call to NtCreateFile\n",
    "def read_filename(ctx):\n",
    "    # filename is stored in a UNICODE_STRING structure,\n",
    "    # which is stored inside of an object_attribute structure,\n",
    "    # a pointer to which is stored as third argument (r8) to the call\n",
    "    object_attribute_addr = ctx.read(regs.r8, types.USize)\n",
    "    # the pointer to the unicode string is stored as third member at offset 0x10 of object_attribute\n",
    "    punicode_addr = object_attribute_addr + 0x10\n",
    "    unicode_addr = ctx.read(LogicalAddress(punicode_addr), types.USize)\n",
    "    # the length is stored as first member of UNICODE_STRING, at offset 0x0\n",
    "    unicode_length = ctx.read(LogicalAddress(unicode_addr) + 0, types.U16)\n",
    "    # the buffer is stored as third member of UNICODE_STRING, at offset 0x8\n",
    "    buffer_addr = ctx.read(LogicalAddress(unicode_addr) + 8, types.USize)\n",
    "    filename = ctx.read(LogicalAddress(buffer_addr),\n",
    "                        types.CString(encoding=types.Encoding.Utf16, max_size=unicode_length))\n",
    "    return filename\n",
    "\n",
    "for (index, ctx) in enumerate(trace.search.symbol(nt_create_files[0])):\n",
    "    if index > 5:\n",
    "        break\n",
    "    print(\"{}: {}\".format(ctx, read_filename(ctx)))"
   ]
  },
  {
   "cell_type": "markdown",
   "metadata": {},
   "source": [
    "## Moving in the trace"
   ]
  },
  {
   "cell_type": "markdown",
   "metadata": {},
   "source": [
    "Once you identified point(s) of interest, the next step in the analysis is to navigate by following data from these points.\n",
    "\n",
    "The API provides several features that can be used to do so.\n",
    "\n",
    "### Using the memory history\n",
    "\n",
    "The main way to use the [*memory history*](http://doc.tetrane.com/latest/Axion/Axion-Views.html#memory-history) in the trace is to use the `Trace.memory_accesses` method. This method allows to look for the next access to some memory range, starting from a transition and in a given direction:\n",
    "\n",
    "*Find a virtual address whose accesses you'd like to see. For instance, go look in Axion for some buffer that gets written and/or read to.*"
   ]
  },
  {
   "cell_type": "code",
   "execution_count": null,
   "metadata": {},
   "outputs": [],
   "source": [
    "# Fill the cell...\n",
    "\n",
    "# Choosing a memory range to track\n",
    "# Some transition where the target buffer is mapped\n",
    "mapped_transition = trace.transition(???)\n",
    "# Address of the beginning of the buffer\n",
    "address = LogicalAddress(???)\n",
    "# Size of the tracked buffer\n",
    "size = ???\n",
    "\n",
    "# Get the next memory access to this location from a transition where the address is mapped\n",
    "next_access = next(trace.memory_accesses(address, size,\n",
    "                    from_transition=mapped_transition))\n",
    "print(next_access)\n"
   ]
  },
  {
   "cell_type": "markdown",
   "metadata": {},
   "source": [
    "If you get a `StopIteration` exception after executing the cell above, it means that the selected memory buffer doesn't have any access after `mapped_transition` in this trace."
   ]
  },
  {
   "cell_type": "code",
   "execution_count": null,
   "metadata": {
    "lines_to_next_cell": 2
   },
   "outputs": [],
   "source": [
    "# You can also look in the backward direction\n",
    "previous_access = next(trace.memory_accesses(address, size, \n",
    "                                             from_transition=mapped_transition,\n",
    "                                             is_forward=False))\n",
    "print(previous_access)\n",
    "print()\n",
    "# Getting all accesses to that memory range in the trace\n",
    "for access in trace.memory_accesses(next_access.physical_address, size):\n",
    "    print(access)"
   ]
  },
  {
   "cell_type": "markdown",
   "metadata": {},
   "source": [
    "If you get a `StopIteration` exception after executing the cell above, it means that the selected memory buffer doesn't have any access before `mapped_transition` in this trace."
   ]
  },
  {
   "cell_type": "markdown",
   "metadata": {},
   "source": [
    "Note that the memory history works with physical addresses under the hood. Although it accepts virtual addresses in input, the range of virtual addresses in translated to physical ranges before querying the memory history. As a result, the vitual address range needs to mapped at the context of the translation for the call to succeed.\n",
    "\n",
    "A secondary method to use is the `Transition.memory_accesses` method that provides all the memory accesses that occurred at a given transition."
   ]
  },
  {
   "cell_type": "code",
   "execution_count": null,
   "metadata": {},
   "outputs": [],
   "source": [
    "# Get a list of all accesses at transition 0\n",
    "[(access.virtual_address, access.size) for access in trace.transition(0).memory_accesses()]"
   ]
  },
  {
   "cell_type": "markdown",
   "metadata": {},
   "source": [
    "### Using the backtrace\n",
    "\n",
    "For any context, you can get the associated call stack by calling the `Context.stack` property:"
   ]
  },
  {
   "cell_type": "code",
   "execution_count": null,
   "metadata": {},
   "outputs": [],
   "source": [
    "# Getting the call stack\n",
    "rep_ctx = rep_transition.context_before()\n",
    "stack = rep_ctx.stack\n",
    "print(stack)\n",
    "print()\n",
    "\n",
    "# Displaying a human-readable backtrace\n",
    "print(stack)"
   ]
  },
  {
   "cell_type": "markdown",
   "metadata": {},
   "source": [
    "From there, you can use the backtrace to navigate in at least two ways:\n",
    "\n",
    "* By going back to the caller of the current frame.\n",
    "\n"
   ]
  },
  {
   "cell_type": "code",
   "execution_count": null,
   "metadata": {},
   "outputs": [],
   "source": [
    "# Finding back the caller transition if it exists\n",
    "print(next(stack.frames()).creation_transition)"
   ]
  },
  {
   "cell_type": "markdown",
   "metadata": {},
   "source": [
    "* By going back to the previous stack. This allows for instance to switch from kernel land to user land, or to find/skip syscalls when necessary."
   ]
  },
  {
   "cell_type": "code",
   "execution_count": null,
   "metadata": {},
   "outputs": [],
   "source": [
    "stack.prev_stack()"
   ]
  },
  {
   "cell_type": "markdown",
   "metadata": {},
   "source": [
    "# Feature overview\n"
   ]
  },
  {
   "cell_type": "markdown",
   "metadata": {},
   "source": [
    "The following table offers a summarized comparison between widgets and features of Axion and Python API methods:\n"
   ]
  },
  {
   "cell_type": "markdown",
   "metadata": {},
   "source": [
    "\n",
    "\n",
    "| Widget | API |\n",
    "|--------|-----|\n",
    "| CPU    | `Context.read` |\n",
    "| Instruction view | `Transition`, `Context.ossi.location`, `Context.ossi.process` |\n",
    "| Hex dump | Context.read |\n",
    "| Memory History | `Trace.memory_accesses`, `Transition.memory_accesses` |\n",
    "| Search | `Trace.search` |\n",
    "| Backtrace| `Context.stack` |\n",
    "| String | `Trace.strings` |\n",
    "| Taint | Available in preview: `preview.taint` |"
   ]
  },
  {
   "cell_type": "markdown",
   "metadata": {},
   "source": [
    "# This is the end of this demo!\n"
   ]
  },
  {
   "cell_type": "markdown",
   "metadata": {},
   "source": [
    "\n",
    "Thank you for reading this notebook to the end! \n",
    "\n",
    "For further information about the Python API, you can refer to the following resources:\n",
    "\n",
    "* We have [python API analysis scripts](https://github.com/tetrane/reven2-resources/tree/master/automation/analysis) available on [our github](https://github.com/tetrane).\n",
    "* The [latest text-only version of this guide](http://doc.tetrane.com/latest/Python-API/Index.html) is available in [our documentation](http://doc.tetrane.com).\n",
    "* The full [Python API reference documentation](http://doc.tetrane.com/latest/python-doc/reven2.html)\n",
    "\n",
    "If this demo contains a specific tutorial notebook, now is the time to go back to [notebook selection](./) and choose the tutorial notebook.\n",
    "\n",
    "In any case, feel free to modify the existing cells and to use the API!"
   ]
  }
 ],
 "metadata": {
  "jupytext": {
   "encoding": "# -*- coding: utf-8 -*-",
   "formats": "ipynb,py:light"
  },
  "kernelspec": {
   "display_name": "reven-2.3.0-python3",
   "language": "python",
   "name": "python3"
  },
  "language_info": {
   "codemirror_mode": {
    "name": "ipython",
    "version": 3
   },
   "file_extension": ".py",
   "mimetype": "text/x-python",
   "name": "python",
   "nbconvert_exporter": "python",
   "pygments_lexer": "ipython3",
   "version": "3.5.3"
  }
 },
 "nbformat": 4,
 "nbformat_minor": 2
}
