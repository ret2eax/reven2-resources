{
 "cells": [
  {
   "cell_type": "markdown",
   "id": "93acbd80",
   "metadata": {},
   "source": [
    "# Bookmarks to WinDbg breakpoints\n",
    "\n",
    "## Purpose\n",
    "\n",
    "This notebook and script are designed to convert the bookmarks of a scenario to WinDbg breakpoints.\n",
    "\n",
    "The meat of the script uses the ability of the API to iterate on the bookmarks of a REVEN scenario, as well as the\n",
    "OSSI location, to generate a list of breakpoint commands for WinDbg where the addresses are independent of the REVEN\n",
    "scenario itself:\n",
    "\n",
    "```py\n",
    "for bookmark in self._server.bookmarks.all():\n",
    "    location = bookmark.transition.context_before().ossi.location()\n",
    "    print(f\"bp {location.binary.name}+{location.rva:#x}\\r\\n\")\n",
    "```\n",
    "\n",
    "The output of the script is a list of WinDbg breakpoint commands corresponding to the relative virtual address\n",
    "of the location of each of the bookmarks.\n",
    "\n",
    "This list of command can either be copy-pasted in WinDbg or output to a file, which can then be executed in WinDbg\n",
    "using the following syntax:\n",
    "\n",
    "```kd\n",
    "$<breakpoints.txt\n",
    "```\n",
    "\n",
    "## How to use\n",
    "\n",
    "Bookmark can be converted from this notebook or from the command line.\n",
    "The script can also be imported as a module for use from your own script or notebook.\n",
    "\n",
    "\n",
    "### From the notebook\n",
    "\n",
    "1. Upload the `bk2bp.ipynb` file in Jupyter.\n",
    "2. Fill out the [parameters](#Parameters) cell of this notebook according to your scenario and desired output.\n",
    "3. Run the full notebook.\n",
    "\n",
    "\n",
    "### From the command line\n",
    "\n",
    "1. Make sure that you are in an\n",
    "   [environment](http://doc.tetrane.com/professional/latest/Python-API/Installation.html#on-the-reven-server)\n",
    "   that can run REVEN scripts.\n",
    "2. Run `python bk2bp.py --help` to get a tour of available arguments.\n",
    "3. Run `python bk2bp.py --host <your_host> --port <your_port> [<other_option>]` with your arguments of\n",
    "   choice.\n",
    "\n",
    "### Imported in your own script or notebook\n",
    "\n",
    "1. Make sure that you are in an\n",
    "   [environment](http://doc.tetrane.com/professional/latest/Python-API/Installation.html#on-the-reven-server)\n",
    "   that can run REVEN scripts.\n",
    "2. Make sure that `bk2bp.py` is in the same directory as your script or notebook.\n",
    "3. Add `import bk2bp` to your script or notebook. You can access the various functions and classes\n",
    "   exposed by the module from the `bk2bp` namespace.\n",
    "4. Refer to the [Argument parsing](#Argument-parsing) cell for an example of use in a script, and to the\n",
    "   [Parameters](#Parameters) cell and below for an example of use in a notebook (you just need to preprend\n",
    "   `bk2bp` in front of the functions and classes from the script).\n",
    "\n",
    "## Known limitations\n",
    "\n",
    "- For the breakpoints to be resolved by WinDbg, the debugged program/machine/REVEN scenario needs to be in a state\n",
    "where the corresponding modules have been loaded. Otherwise, WinDbg will add the breakpoints in an unresolved state,\n",
    "  and may mixup module and symbols.\n",
    "\n",
    "- When importing breakpoints generated from the bookmarks of a scenario using this script in WinDbg,\n",
    "  make sure that the debugged system is \"similar enough\" to the VM that was used to record the scenario.\n",
    "  In particular, if a binary changed and has symbols at different offsets in the debugged system, importing\n",
    "  the breakpoints will not lead to the correct location in the binary, and may render the debugged system unstable.\n",
    "\n",
    "## Supported versions\n",
    "\n",
    "REVEN 2.8+\n",
    "\n",
    "## Supported perimeter\n",
    "\n",
    "Any Windows REVEN scenario.\n",
    "\n",
    "## Dependencies\n",
    "\n",
    "None."
   ]
  },
  {
   "cell_type": "markdown",
   "id": "51e9b294",
   "metadata": {},
   "source": [
    "### Package imports"
   ]
  },
  {
   "cell_type": "code",
   "execution_count": null,
   "id": "3b506613",
   "metadata": {},
   "outputs": [],
   "source": [
    "import argparse\n",
    "from typing import Optional\n",
    "\n",
    "import reven2  # type: ignore"
   ]
  },
  {
   "cell_type": "markdown",
   "id": "7f5195dd",
   "metadata": {},
   "source": [
    "### Utility functions"
   ]
  },
  {
   "cell_type": "code",
   "execution_count": null,
   "id": "b47850f6",
   "metadata": {},
   "outputs": [],
   "source": [
    "# Detect if we are currently running a Jupyter notebook.\n",
    "#\n",
    "# This is used e.g. to display rendered results inline in Jupyter when we are executing in the context of a Jupyter\n",
    "# notebook, or to display raw results on the standard output when we are executing in the context of a script.\n",
    "def in_notebook():\n",
    "    try:\n",
    "        from IPython import get_ipython  # type: ignore\n",
    "        if get_ipython() is None or (\"IPKernelApp\" not in get_ipython().config):\n",
    "            return False\n",
    "    except ImportError:\n",
    "        return False\n",
    "    return True"
   ]
  },
  {
   "cell_type": "markdown",
   "id": "d35af69b",
   "metadata": {},
   "source": [
    "### Main function"
   ]
  },
  {
   "cell_type": "code",
   "execution_count": null,
   "id": "69c53188",
   "metadata": {},
   "outputs": [],
   "source": [
    "def bk2bp(server: reven2.RevenServer, output: Optional[str]):\n",
    "    text = \"\"\n",
    "    for bookmark in server.bookmarks.all():\n",
    "        ossi = bookmark.transition.context_before().ossi\n",
    "        if ossi is None:\n",
    "            continue\n",
    "        location = ossi.location()\n",
    "        if location is None:\n",
    "            continue\n",
    "        if location.binary is None:\n",
    "            continue\n",
    "        if location.rva is None:\n",
    "            continue\n",
    "        name = location.binary.name\n",
    "        # WinDbg requires the precise name of the kernel, which is difficult to get.\n",
    "        # WinDbg seems to always accept \"nt\" as name for the kernel, so replace that.\n",
    "        if name == \"ntoskrnl\":\n",
    "            name = \"nt\"\n",
    "        text += f\"bp {name}+{location.rva:#x}\\r\\n\"  # for windows it is safest to have the \\r\n",
    "    if output is None:\n",
    "        print(text)\n",
    "    else:\n",
    "        try:\n",
    "            with open(output, \"w\") as f:\n",
    "                f.write(text)\n",
    "        except OSError as ose:\n",
    "            raise ValueError(f\"Could not open file {output}: {ose}\")"
   ]
  },
  {
   "cell_type": "markdown",
   "id": "8f5b78ac",
   "metadata": {},
   "source": [
    "### Argument parsing\n",
    "\n",
    "Argument parsing function for use in the script context."
   ]
  },
  {
   "cell_type": "code",
   "execution_count": null,
   "id": "9a490e14",
   "metadata": {},
   "outputs": [],
   "source": [
    "def script_main():\n",
    "    parser = argparse.ArgumentParser(\n",
    "        description=\"Convert the bookmarks of a scenario to a WinDbg breakpoints commands.\"\n",
    "    )\n",
    "    parser.add_argument(\n",
    "        \"--host\",\n",
    "        type=str,\n",
    "        default=\"localhost\",\n",
    "        required=False,\n",
    "        help='REVEN host, as a string (default: \"localhost\")',\n",
    "    )\n",
    "    parser.add_argument(\n",
    "        \"-p\",\n",
    "        \"--port\",\n",
    "        type=int,\n",
    "        default=\"13370\",\n",
    "        required=False,\n",
    "        help=\"REVEN port, as an int (default: 13370)\",\n",
    "    )\n",
    "    parser.add_argument(\n",
    "        \"-o\",\n",
    "        \"--output-file\",\n",
    "        type=str,\n",
    "        required=False,\n",
    "        help=\"The target file of the script. If absent, the results will be printed on the standard output.\",\n",
    "    )\n",
    "\n",
    "    args = parser.parse_args()\n",
    "\n",
    "    try:\n",
    "        server = reven2.RevenServer(args.host, args.port)\n",
    "    except RuntimeError:\n",
    "        raise RuntimeError(f\"Could not connect to the server on {args.host}:{args.port}.\")\n",
    "\n",
    "    bk2bp(server, args.output_file)"
   ]
  },
  {
   "cell_type": "markdown",
   "id": "0d8ae4e1",
   "metadata": {},
   "source": [
    "### Parameters\n",
    "\n",
    "These parameters have to be filled out to use in the notebook context."
   ]
  },
  {
   "cell_type": "code",
   "execution_count": null,
   "id": "f6c8b018",
   "metadata": {},
   "outputs": [],
   "source": [
    "# Server connection\n",
    "#\n",
    "host = \"localhost\"\n",
    "port = 13370\n",
    "\n",
    "\n",
    "# Output target\n",
    "#\n",
    "# If set to a path, writes the breakpoint commands file there\n",
    "output_file = None  # display bp commands inline in the Jupyter Notebook\n",
    "# output_file = \"breakpoints.txt\"  # write bp commands to a file named \"breakpoints.txt\" in the current directory"
   ]
  },
  {
   "cell_type": "markdown",
   "id": "0ff6aa66",
   "metadata": {},
   "source": [
    "### Execution cell\n",
    "\n",
    "This cell executes according to the [parameters](#Parameters) when in notebook context, or according to the\n",
    "[parsed arguments](#Argument-parsing) when in script context.\n",
    "\n",
    "When in notebook context, if the `output` parameter is `None`, then the output will be displayed in the last cell of\n",
    "the notebook."
   ]
  },
  {
   "cell_type": "code",
   "execution_count": null,
   "id": "cdc06c71",
   "metadata": {},
   "outputs": [],
   "source": [
    "if __name__ == \"__main__\":\n",
    "    if in_notebook():\n",
    "        try:\n",
    "            server = reven2.RevenServer(host, port)\n",
    "        except RuntimeError:\n",
    "            raise RuntimeError(f\"Could not connect to the server on {host}:{port}.\")\n",
    "        bk2bp(server, output_file)\n",
    "    else:\n",
    "        script_main()"
   ]
  },
  {
   "cell_type": "code",
   "execution_count": null,
   "id": "c6ba23a5",
   "metadata": {},
   "outputs": [],
   "source": []
  }
 ],
 "metadata": {
  "jupytext": {
   "formats": "ipynb,py:percent"
  },
  "kernelspec": {
   "display_name": "reven",
   "language": "python",
   "name": "reven-python3"
  }
 },
 "nbformat": 4,
 "nbformat_minor": 5
}
